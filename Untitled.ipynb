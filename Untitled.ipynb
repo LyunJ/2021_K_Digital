{
 "cells": [
  {
   "cell_type": "markdown",
   "id": "8fec8fb9-9db1-4941-acc0-c7924e9b16c5",
   "metadata": {},
   "source": [
    "# numpy"
   ]
  },
  {
   "cell_type": "code",
   "execution_count": 1,
   "id": "910b3bcd-6d49-43db-b987-3e0b88ea5301",
   "metadata": {},
   "outputs": [],
   "source": [
    "a = [1,2,3]"
   ]
  },
  {
   "cell_type": "code",
   "execution_count": 2,
   "id": "6b09fc03-993f-4fc1-bd60-dbfbd3853452",
   "metadata": {},
   "outputs": [],
   "source": [
    "b = [[4,5,6],[7,8,9]]"
   ]
  },
  {
   "cell_type": "code",
   "execution_count": 3,
   "id": "283ae53c-6c49-44f5-bbad-ae94ca576d9e",
   "metadata": {},
   "outputs": [],
   "source": [
    "import numpy as np"
   ]
  },
  {
   "cell_type": "code",
   "execution_count": 4,
   "id": "0e7917f9-de23-4db5-8802-340271f4b1c3",
   "metadata": {},
   "outputs": [],
   "source": [
    "a_array = np.array(a,dtype=np.int32)"
   ]
  },
  {
   "cell_type": "code",
   "execution_count": 5,
   "id": "968544ca-1365-4e7f-bda8-1228ed62e566",
   "metadata": {},
   "outputs": [
    {
     "data": {
      "text/plain": [
       "array([1, 2, 3])"
      ]
     },
     "execution_count": 5,
     "metadata": {},
     "output_type": "execute_result"
    }
   ],
   "source": [
    "a_array"
   ]
  },
  {
   "cell_type": "code",
   "execution_count": 6,
   "id": "a3793ef7-dddd-4353-b432-28ad2296b8e0",
   "metadata": {},
   "outputs": [],
   "source": [
    "a_mean = np.mean(a)"
   ]
  },
  {
   "cell_type": "code",
   "execution_count": 7,
   "id": "a9de4dff-7206-4901-b329-cb83e40f5d71",
   "metadata": {},
   "outputs": [
    {
     "data": {
      "text/plain": [
       "2.0"
      ]
     },
     "execution_count": 7,
     "metadata": {},
     "output_type": "execute_result"
    }
   ],
   "source": [
    "a_mean"
   ]
  },
  {
   "cell_type": "code",
   "execution_count": 8,
   "id": "76ae3fb0-e474-4a2a-b801-39026f0e71e4",
   "metadata": {},
   "outputs": [
    {
     "name": "stdout",
     "output_type": "stream",
     "text": [
      "C:\\Users\\tedle\\work\\study\\2021-K-Digital-Training\n"
     ]
    }
   ],
   "source": [
    "!cd"
   ]
  },
  {
   "cell_type": "code",
   "execution_count": 9,
   "id": "cb8ad84f-49d9-44b6-9081-08f9551cadca",
   "metadata": {},
   "outputs": [
    {
     "name": "stdout",
     "output_type": "stream",
     "text": [
      "C:\\Users\\tedle\n"
     ]
    }
   ],
   "source": [
    "%cd"
   ]
  },
  {
   "cell_type": "code",
   "execution_count": 11,
   "id": "18205a3f-9ecf-4d31-8b0d-7b2fdc9aeaad",
   "metadata": {},
   "outputs": [],
   "source": [
    "b_array = np.array(b,dtype = np.int64)"
   ]
  },
  {
   "cell_type": "code",
   "execution_count": 12,
   "id": "c2b88031-ff39-46d7-aa93-8161bab0b357",
   "metadata": {},
   "outputs": [],
   "source": [
    "b_array = b_array + 10"
   ]
  },
  {
   "cell_type": "code",
   "execution_count": 13,
   "id": "8fc7420e-0bde-4279-84b3-d4ef9c27917d",
   "metadata": {},
   "outputs": [
    {
     "data": {
      "text/plain": [
       "array([[14, 15, 16],\n",
       "       [17, 18, 19]], dtype=int64)"
      ]
     },
     "execution_count": 13,
     "metadata": {},
     "output_type": "execute_result"
    }
   ],
   "source": [
    "b_array"
   ]
  },
  {
   "cell_type": "code",
   "execution_count": 14,
   "id": "9c11ad31-0cf3-4aec-a946-7e03e5bb73c0",
   "metadata": {},
   "outputs": [
    {
     "data": {
      "text/plain": [
       "[[4, 5, 6], [7, 8, 9]]"
      ]
     },
     "execution_count": 14,
     "metadata": {},
     "output_type": "execute_result"
    }
   ],
   "source": [
    "b"
   ]
  },
  {
   "cell_type": "code",
   "execution_count": 15,
   "id": "97a22c3d-2511-4fff-abcf-ba6a7731da6b",
   "metadata": {},
   "outputs": [
    {
     "data": {
      "text/plain": [
       "(2, 3)"
      ]
     },
     "execution_count": 15,
     "metadata": {},
     "output_type": "execute_result"
    }
   ],
   "source": [
    "b_array.shape"
   ]
  },
  {
   "cell_type": "code",
   "execution_count": 16,
   "id": "92d319c4-e771-4c96-91c1-3cbf480e8a43",
   "metadata": {},
   "outputs": [
    {
     "name": "stdout",
     "output_type": "stream",
     "text": [
      " C 드라이브의 볼륨에는 이름이 없습니다.\n",
      " 볼륨 일련 번호: 2074-976A\n",
      "\n",
      " C:\\Users\\tedle 디렉터리\n",
      "\n",
      "2021-06-01  오전 11:35    <DIR>          .\n",
      "2021-06-01  오전 11:35    <DIR>          ..\n",
      "2021-05-18  오후 02:17    <DIR>          .android\n",
      "2020-09-30  오후 07:33    <DIR>          .aws\n",
      "2020-09-30  오후 07:33    <DIR>          .azure\n",
      "2021-05-15  오후 01:44             1,901 .bash_history\n",
      "2020-12-19  오후 03:28    <DIR>          .conda\n",
      "2020-12-19  오전 09:24                43 .condarc\n",
      "2020-10-26  오전 01:24    <DIR>          .config\n",
      "2021-01-02  오전 10:10    <DIR>          .docker\n",
      "2020-05-31  오후 08:53    <DIR>          .eclipse\n",
      "2020-02-16  오전 11:23                16 .emulator_console_auth_token\n",
      "2020-08-29  오후 03:31               196 .gitconfig\n",
      "2021-04-24  오후 11:51    <DIR>          .gradle\n",
      "2021-04-19  오전 12:43             2,097 .h2.server.properties\n",
      "2021-05-17  오전 11:28    <DIR>          .idlerc\n",
      "2021-06-01  오전 11:35    <DIR>          .ipython\n",
      "2021-06-01  오전 11:45    <DIR>          .jupyter\n",
      "2020-12-05  오후 10:36    <DIR>          .keras\n",
      "2020-11-25  오후 09:50    <DIR>          .m2\n",
      "2020-09-21  오전 11:39    <DIR>          .matplotlib\n",
      "2021-02-04  오후 02:38             2,964 .node_repl_history\n",
      "2020-03-27  오후 03:52    <DIR>          .openjfx\n",
      "2020-06-05  오후 08:54    <DIR>          .p2\n",
      "2020-06-22  오전 11:44               176 .packettracer\n",
      "2020-11-14  오후 11:41    <DIR>          .pylint.d\n",
      "2020-12-19  오후 11:19               167 .python_history\n",
      "2020-09-29  오후 01:16    <DIR>          .ssh\n",
      "2020-05-12  오후 03:12    <DIR>          .tooling\n",
      "2020-07-26  오후 06:00    <DIR>          .VirtualBox\n",
      "2019-12-24  오후 06:46    <DIR>          .vscode\n",
      "2020-12-01  오후 10:36                59 .vuerc\n",
      "2020-03-12  오후 02:28    <DIR>          .yarn\n",
      "2021-02-02  오후 02:36               121 .yarnrc\n",
      "2020-08-12  오후 06:11    <DIR>          3D Objects\n",
      "2021-06-01  오전 11:32    <DIR>          anaconda3\n",
      "2020-02-25  오후 03:34    <DIR>          AndroidStudioProjects\n",
      "2019-12-21  오전 12:47    <DIR>          ansel\n",
      "2020-08-12  오후 06:01    <DIR>          AppData\n",
      "2020-06-22  오전 11:50    <DIR>          Cisco Packet Tracer 7.3.0\n",
      "2020-08-12  오후 06:11    <DIR>          Contacts\n",
      "2021-05-26  오후 11:56    <DIR>          Creative Cloud Files\n",
      "2021-05-30  오후 08:24    <DIR>          Desktop\n",
      "2021-01-18  오전 10:23    <DIR>          Documents\n",
      "2021-06-01  오전 11:23    <DIR>          Downloads\n",
      "2020-05-31  오후 08:53    <DIR>          eclipse-workspace\n",
      "2020-08-12  오후 06:11    <DIR>          Favorites\n",
      "2020-02-16  오전 09:42                 0 flutter\n",
      "2021-04-22  오전 03:06    <DIR>          fonts\n",
      "2020-09-14  오후 05:30         1,885,433 get-pip.py\n",
      "2020-09-26  오전 02:38    <DIR>          getting-started\n",
      "2020-07-11  오후 05:50            10,894 KCase.log\n",
      "2020-08-12  오후 06:11    <DIR>          Links\n",
      "2020-05-18  오후 02:51                24 mcj.sql\n",
      "2020-08-29  오후 03:31                61 mercurial.ini\n",
      "2020-08-12  오후 06:11    <DIR>          Music\n",
      "2021-01-29  오후 03:27    <DIR>          node_modules\n",
      "2021-06-01  오전 08:42    <DIR>          OneDrive\n",
      "2020-03-20  오전 11:11    <DIR>          Oracle\n",
      "2020-05-01  오후 09:26             9,770 orcl.sql\n",
      "2020-05-18  오후 02:51                83 orcl1.sql\n",
      "2020-06-26  오후 11:31               726 orcl2.sql\n",
      "2021-01-29  오후 03:27            14,473 package-lock.json\n",
      "2020-10-28  오후 03:53    <DIR>          PhpstormProjects\n",
      "2020-12-10  오후 05:26    <DIR>          Pictures\n",
      "2020-08-10  오전 01:37    <DIR>          Postman\n",
      "2021-05-17  오전 10:27    <DIR>          PycharmProjects\n",
      "2021-05-30  오후 11:32    <DIR>          Saved Games\n",
      "2020-08-12  오후 06:11    <DIR>          Searches\n",
      "2020-09-12  오후 09:32    <DIR>          source\n",
      "2021-05-15  오후 01:41    <DIR>          SQLD실습\n",
      "2020-05-18  오후 02:51                35 system.sql\n",
      "2020-12-16  오전 05:35    <DIR>          tedle\n",
      "2020-12-17  오후 04:16    <DIR>          Videos\n",
      "2020-07-21  오후 12:44    <DIR>          VirtualBox VMs\n",
      "2021-01-07  오전 10:21    <DIR>          vmlogs\n",
      "2021-05-18  오후 03:10    <DIR>          work\n",
      "2020-07-17  오후 03:22                90 yarn.lock\n",
      "2020-03-13  오후 04:41               200 _netrc\n",
      "              22개 파일           1,929,529 바이트\n",
      "              57개 디렉터리  38,502,064,128 바이트 남음\n"
     ]
    }
   ],
   "source": [
    "!dir"
   ]
  },
  {
   "cell_type": "code",
   "execution_count": null,
   "id": "e5557dbc-3bbb-4291-89e9-b1dcd7cf05dd",
   "metadata": {},
   "outputs": [],
   "source": []
  }
 ],
 "metadata": {
  "kernelspec": {
   "display_name": "Python 3",
   "language": "python",
   "name": "python3"
  },
  "language_info": {
   "codemirror_mode": {
    "name": "ipython",
    "version": 3
   },
   "file_extension": ".py",
   "mimetype": "text/x-python",
   "name": "python",
   "nbconvert_exporter": "python",
   "pygments_lexer": "ipython3",
   "version": "3.7.6"
  }
 },
 "nbformat": 4,
 "nbformat_minor": 5
}
